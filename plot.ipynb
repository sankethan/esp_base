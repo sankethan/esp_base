{
 "cells": [
  {
   "cell_type": "code",
   "execution_count": null,
   "metadata": {},
   "outputs": [],
   "source": [
    "import serial\n",
    "X=[]\n",
    "Y=[]\n",
    "Z=[]\n",
    "# Open serial port\n",
    "ser = serial.Serial(\n",
    "    port='/dev/ttyUSB0',       # Replace with your port name (e.g., '/dev/ttyUSB0' for Linux/Mac)\n",
    "    baudrate=115200,     # Baud rate (must match device setting)\n",
    "    timeout=1          # Timeout for read operations (in seconds)\n",
    ")\n",
    "\n",
    "# Continuously read data\n",
    "try:\n",
    "    while True:\n",
    "        if ser.in_waiting > 0:  # Check if there is data waiting in the buffer\n",
    "            line = ser.readline().decode('utf-8').strip()\n",
    "            if len(line.split(\":\")) !=4:\n",
    "                continue\n",
    "            X.append(int(line.split(\"\\t\")[0].split(\"X: \")[1]))\n",
    "            Y.append(int(line.split(\"\\t\")[1].split(\"Y: \")[1]))\n",
    "            Z.append(int(line.split(\"\\t\")[2].split(\"Z: \")[1]))\n",
    "            print(f\"Received: {line}\")\n",
    "            \n",
    "\n",
    "except KeyboardInterrupt:\n",
    "    print(\"Exiting Program\")\n",
    "\n",
    "finally:\n",
    "    ser.close()\n",
    "    print(\"Serial port closed\")"
   ]
  },
  {
   "cell_type": "code",
   "execution_count": null,
   "metadata": {},
   "outputs": [],
   "source": [
    "import seaborn as sns\n",
    "import numpy as np\n",
    "import matplotlib.pyplot as plt\n",
    "import scipy\n",
    "\n",
    "xi = np.linspace(min(X), max(X), 100)\n",
    "yi = np.linspace(min(Y), max(Y), 100)\n",
    "xi, yi = np.meshgrid(xi, yi)\n",
    "\n",
    "# Interpolate the temperature values onto the grid\n",
    "zi = scipy.interpolate.griddata((X, Y), Z, (xi, yi), method='cubic')\n",
    "\n",
    "# Plot the heatmap\n",
    "plt.figure(figsize=(8,6))\n",
    "plt.contourf(X, Y, Z, levels=100, cmap='hot')\n",
    "plt.colorbar(label='Depth ()')\n",
    "plt.title('Depth Heatmap')\n",
    "plt.xlabel('X')\n",
    "plt.ylabel('Y')\n",
    "plt.show()"
   ]
  }
 ],
 "metadata": {
  "kernelspec": {
   "display_name": "Python 3",
   "language": "python",
   "name": "python3"
  },
  "language_info": {
   "codemirror_mode": {
    "name": "ipython",
    "version": 3
   },
   "file_extension": ".py",
   "mimetype": "text/x-python",
   "name": "python",
   "nbconvert_exporter": "python",
   "pygments_lexer": "ipython3",
   "version": "3.10.12"
  }
 },
 "nbformat": 4,
 "nbformat_minor": 2
}
